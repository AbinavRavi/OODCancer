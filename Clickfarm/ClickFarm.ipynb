{
 "cells": [
  {
   "cell_type": "markdown",
   "metadata": {},
   "source": [
    "# ClickFarm\n",
    "----\n",
    "When you don't have the data, you go to the ClickFarm!"
   ]
  },
  {
   "cell_type": "markdown",
   "metadata": {},
   "source": [
    "## The 10 Commandments.\n",
    "---\n",
    "1. The code is fragile. Handle with care.\n",
    "2. This is the master code. Don't touch this.\n",
    "3. **Make a copy** of this notebook and work with the copy.\n",
    "4. When ClickFarm Starts, you see a random image, **press skip** to start with the CT slices!\n",
    "5. Double clicking on the image enlarges it.\n",
    "6. Press Save when:\n",
    "    - the predicted mask is correct.\n",
    "    - the predicted mask is close to the bleeding but not overlapping.\n",
    "    - there is even a slight overlap between the bleed and the prediction.\n",
    "    - the prediction is only a few pixels in size but nevertheless identifies the location of the bleeding.\n",
    "7. Press Skip when:\n",
    "    - The predicted mask is empty.\n",
    "    - The predicted mask is nowhere near the bleeding.\n",
    "8. The ClickFarm saves your work, and also allows you to restore your 'save state' to continue where you left off.\n",
    "9. This restoration is done manually. All you need to do is pass the `Last Id` you get when you press  Save & Exit button as input to the ClickFarm object instantiation (variable pid, line 79) and your work is restored. \n",
    "10. When you're done or are bored of Clicking, please press **Save & Exit**. Your clicks are not stored otherwise!\n"
   ]
  },
  {
   "cell_type": "code",
   "execution_count": 1,
   "metadata": {},
   "outputs": [],
   "source": [
    "%matplotlib inline"
   ]
  },
  {
   "cell_type": "code",
   "execution_count": 2,
   "metadata": {},
   "outputs": [],
   "source": [
    "import os"
   ]
  },
  {
   "cell_type": "code",
   "execution_count": 3,
   "metadata": {},
   "outputs": [
    {
     "name": "stderr",
     "output_type": "stream",
     "text": [
      "/home/a_parida/anaconda3/lib/python3.7/site-packages/IPython/html.py:14: ShimWarning: The `IPython.html` package has been deprecated since IPython 4.0. You should import from `notebook` instead. `IPython.html.widgets` has moved to `ipywidgets`.\n",
      "  \"`IPython.html.widgets` has moved to `ipywidgets`.\", ShimWarning)\n"
     ]
    }
   ],
   "source": [
    "import matplotlib.pyplot as plt\n",
    "import numpy as np\n",
    "import time\n",
    "from ipywidgets import *\n",
    "from IPython.display import display,clear_output\n",
    "from IPython.html import widgets\n",
    "\n",
    "import datetime\n",
    "import pickle\n",
    "import glob\n",
    "\n",
    "import skimage.io as sio"
   ]
  },
  {
   "cell_type": "code",
   "execution_count": 4,
   "metadata": {},
   "outputs": [],
   "source": [
    "path_to_img='../data/'"
   ]
  },
  {
   "cell_type": "code",
   "execution_count": 5,
   "metadata": {},
   "outputs": [],
   "source": [
    "images = [np.random.randn(400).reshape(20,20) for i in range(10)]\n",
    "images2 = [np.random.randn(400).reshape(20,20) for i in range(10)]"
   ]
  },
  {
   "cell_type": "code",
   "execution_count": 6,
   "metadata": {},
   "outputs": [
    {
     "name": "stdout",
     "output_type": "stream",
     "text": [
      "==============\n",
      "ClickFarm 1.0\n",
      "==============\n",
      "------------------\n"
     ]
    },
    {
     "data": {
      "application/vnd.jupyter.widget-view+json": {
       "model_id": "c6f87db4a9b842be9d38e3eea42058d0",
       "version_major": 2,
       "version_minor": 0
      },
      "text/plain": [
       "Button(description='Save & Exit', style=ButtonStyle())"
      ]
     },
     "metadata": {},
     "output_type": "display_data"
    },
    {
     "name": "stdout",
     "output_type": "stream",
     "text": [
      "------------------\n",
      "\n",
      "\n"
     ]
    },
    {
     "data": {
      "application/vnd.jupyter.widget-view+json": {
       "model_id": "e09d5150c3d6410ab119904f9ac72d40",
       "version_major": 2,
       "version_minor": 0
      },
      "text/plain": [
       "Button(description='Skip', style=ButtonStyle())"
      ]
     },
     "metadata": {},
     "output_type": "display_data"
    },
    {
     "data": {
      "application/vnd.jupyter.widget-view+json": {
       "model_id": "4508b3215b5d4020a098962bf2deec39",
       "version_major": 2,
       "version_minor": 0
      },
      "text/plain": [
       "Button(description='Save', style=ButtonStyle())"
      ]
     },
     "metadata": {},
     "output_type": "display_data"
    },
    {
     "data": {
      "application/vnd.jupyter.widget-view+json": {
       "model_id": "0ea4a7c7f8f04a599b783e6c2e92142d",
       "version_major": 2,
       "version_minor": 0
      },
      "text/plain": [
       "Output()"
      ]
     },
     "metadata": {},
     "output_type": "display_data"
    }
   ],
   "source": [
    "save_btn = widgets.Button(description=\"Save\")\n",
    "skip_btn   = widgets.Button(description=\"Skip\")\n",
    "stop_btn = widgets.Button(description=\"Save & Exit\")\n",
    "\n",
    "out = Output()\n",
    "\n",
    "class ClickFarm:\n",
    "    def __init__(self, patient = None, usr1=True,extn='.png'):\n",
    "        \n",
    "        all_imgs=sorted(glob.glob(path_to_img+'*'+extn))\n",
    "        \n",
    "        if usr1:\n",
    "            all_imgs=all_imgs[:len(all_imgs)//2]\n",
    "        if not usr1:\n",
    "            all_imgs=all_imgs[len(all_imgs)//2:]\n",
    "            \n",
    "        if patient:\n",
    "            patient=path_to_img+patient+extn\n",
    "            idx=all_imgs.index(patient)\n",
    "            all_imgs=all_imgs[idx:]\n",
    "        \n",
    "        self.files=all_imgs\n",
    "        self.total=len(all_imgs)\n",
    "        self.save_ids=[]\n",
    "        \n",
    "        self.counter = 0\n",
    "        \n",
    "    def plot_images(self):\n",
    "        \n",
    "        fig = plt.figure(figsize=[9,9])\n",
    "        plt.imshow(self.get_image(self.files[self.counter]),cmap='gray')\n",
    "        name=self.files[self.counter].split('/')[-1].split('.')[0]\n",
    "        plt.title(f'{self.counter}/{self.total}:{name}')\n",
    "        plt.axis('off')\n",
    "        plt.show()\n",
    "        \n",
    "    def get_image(self,file):\n",
    "        img=sio.imread(file)\n",
    "        \n",
    "        img=img[:img.shape[0]//4,:img.shape[1]//4,:]\n",
    "        \n",
    "        return img\n",
    "        \n",
    "    def on_skip_click(self,b):\n",
    "        with out:\n",
    "            clear_output(True)\n",
    "            self.plot_images()\n",
    "            self.counter += 1           \n",
    "            \n",
    "\n",
    "    def on_save_click(self,b):\n",
    "        with out:\n",
    "            clear_output(True)\n",
    "            self.plot_images()\n",
    "            name=self.files[self.counter].split('/')[-1].split('.')[0]\n",
    "            self.save_ids.append(name)\n",
    "            self.counter += 1\n",
    "\n",
    "                \n",
    "                \n",
    "    def on_stop_click(self, b):\n",
    "        print('Saving Progress...')\n",
    "        now = datetime.datetime.now()\n",
    "        os.makedirs('./click_farm/', exist_ok=True)\n",
    "        with open(f'./click_farm/click_farm_save_{str(now.date())}_{now.hour}_{now.minute}.pkl','wb') as handle:\n",
    "            pickle.dump(self.save_ids, handle)\n",
    "            \n",
    "        name=self.files[self.counter-1].split('/')[-1].split('.')[0]    \n",
    "        print(f'The Last ID you saw: {name}.')\n",
    "        print('Pass Last ID as parameter to ClickFarm to continue from here! Bye!')\n",
    "\n",
    "        \n",
    "\n",
    "#####\n",
    "# SET pid TO YOUR LAST ID TO CONTINUE YOUR SAVED WORK.\n",
    "#####\n",
    "pid = 'ISIC_0029087'\n",
    "\n",
    "bh = ClickFarm(patient=pid, usr1=True, extn='.jpg')\n",
    "            \n",
    "            \n",
    "skip_btn.on_click(bh.on_skip_click)\n",
    "save_btn.on_click(bh.on_save_click)\n",
    "stop_btn.on_click(bh.on_stop_click)\n",
    "\n",
    "print('==============')\n",
    "print('ClickFarm 1.0')\n",
    "print('==============')\n",
    "\n",
    "print('------------------')\n",
    "display(stop_btn)\n",
    "print('------------------\\n\\n')\n",
    "\n",
    "display(skip_btn)\n",
    "display(save_btn)\n",
    "\n",
    "with out:\n",
    "    \n",
    "    plt.imshow(images[0])\n",
    "    plt.show()\n",
    "\n",
    "out"
   ]
  },
  {
   "cell_type": "code",
   "execution_count": 7,
   "metadata": {},
   "outputs": [
    {
     "ename": "SyntaxError",
     "evalue": "invalid syntax (<ipython-input-7-309314dd6061>, line 1)",
     "output_type": "error",
     "traceback": [
      "\u001b[0;36m  File \u001b[0;32m\"<ipython-input-7-309314dd6061>\"\u001b[0;36m, line \u001b[0;32m1\u001b[0m\n\u001b[0;31m    =============\u001b[0m\n\u001b[0m     ^\u001b[0m\n\u001b[0;31mSyntaxError\u001b[0m\u001b[0;31m:\u001b[0m invalid syntax\n"
     ]
    }
   ],
   "source": [
    "=============\n",
    "import pickle\n",
    "with open('click_farm/click_farm_save_2020-01-18_9_53.pkl', 'rb') as handle:\n",
    "    b = pickle.load(handle)\n"
   ]
  },
  {
   "cell_type": "code",
   "execution_count": null,
   "metadata": {},
   "outputs": [],
   "source": [
    "b[-1]"
   ]
  },
  {
   "cell_type": "code",
   "execution_count": null,
   "metadata": {},
   "outputs": [],
   "source": []
  }
 ],
 "metadata": {
  "kernelspec": {
   "display_name": "Python 3",
   "language": "python",
   "name": "python3"
  },
  "language_info": {
   "codemirror_mode": {
    "name": "ipython",
    "version": 3
   },
   "file_extension": ".py",
   "mimetype": "text/x-python",
   "name": "python",
   "nbconvert_exporter": "python",
   "pygments_lexer": "ipython3",
   "version": "3.7.4"
  }
 },
 "nbformat": 4,
 "nbformat_minor": 2
}
